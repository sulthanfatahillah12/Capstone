{
 "cells": [
  {
   "cell_type": "code",
   "execution_count": 91,
   "metadata": {},
   "outputs": [],
   "source": [
    "import os\n",
    "import random\n",
    "import shutil\n",
    "import os\n",
    "import tensorflow as tf\n",
    "import seaborn as sns\n",
    "from sklearn.model_selection import train_test_split\n",
    "from tensorflow.keras.optimizers.legacy import Adam\n",
    "from tensorflow.keras.callbacks import ModelCheckpoint\n",
    "\n",
    "\n",
    "\n",
    "# GPU memory growth configuration\n",
    "gpus = tf.config.experimental.list_physical_devices('GPU')\n",
    "for gpu in gpus:\n",
    "    tf.config.experimental.set_memory_growth(gpu, True)"
   ]
  },
  {
   "cell_type": "code",
   "execution_count": 92,
   "metadata": {},
   "outputs": [],
   "source": [
    "def split_data1(SOURCE, TRAINING, TESTING, SPLIT_SIZE):\n",
    "\n",
    "  \n",
    "  shuffled_source = random.sample(os.listdir(SOURCE), len(os.listdir(SOURCE)))\n",
    "\n",
    "  \n",
    "  training_number = int(len(shuffled_source) * SPLIT_SIZE)\n",
    "\n",
    "  i = 0\n",
    "  target = TRAINING\n",
    "\n",
    "  for item in shuffled_source:\n",
    "    item_source = os.path.join(SOURCE, item)\n",
    "    if os.path.getsize(item_source) == 0:\n",
    "      print(f'{item} is zero length, so ignoring.')\n",
    "    else: \n",
    "      shutil.copyfile(item_source, os.path.join(target, item))\n",
    "      i += 1\n",
    "\n",
    "    \n",
    "    if i == training_number:\n",
    "      target = TESTING"
   ]
  },
  {
   "cell_type": "code",
   "execution_count": 145,
   "metadata": {},
   "outputs": [
    {
     "name": "stdout",
     "output_type": "stream",
     "text": [
      "There are 21713 images of human art for training\n",
      "There are 20250 images of AI generated for training\n",
      "There are 2413 images of human art for validation\n",
      "There are 2251 images of AI generated for validation\n"
     ]
    }
   ],
   "source": [
    "source_path = r\"/Users/sulthanfatahillah/Downloads/Datasets\"\n",
    "\n",
    "source_ai_dir = r\"/Users/sulthanfatahillah/Downloads/Datasets/AI\"\n",
    "source_human_dir = r\"/Users/sulthanfatahillah/Downloads/Datasets/Non-AI\"\n",
    "\n",
    "training_dir = r\"/Users/sulthanfatahillah/Downloads/split-data/Training\"\n",
    "validation_dir = r\"/Users/sulthanfatahillah/Downloads/split-data/Validation\"\n",
    "\n",
    "train_ai_dir = os.path.join(training_dir, 'AI')\n",
    "train_human_dir = os.path.join(training_dir, 'Non-Ai')\n",
    "\n",
    "val_human_dir = os.path.join(validation_dir, 'Non-AI')\n",
    "val_ai_dir = os.path.join(validation_dir, 'AI')\n",
    "\n",
    "if len(os.listdir(train_human_dir)) > 0:\n",
    "  for file in os.scandir(train_human_dir):\n",
    "    os.remove(file.path)\n",
    "if len(os.listdir(train_ai_dir)) > 0:\n",
    "  for file in os.scandir(train_ai_dir):\n",
    "    os.remove(file.path)\n",
    "if len(os.listdir(val_human_dir)) > 0:\n",
    "  for file in os.scandir(val_human_dir):\n",
    "    os.remove(file.path)\n",
    "if len(os.listdir(val_ai_dir)) > 0:\n",
    "  for file in os.scandir(val_ai_dir):\n",
    "    os.remove(file.path)\n",
    "    \n",
    "split_size = .9\n",
    "\n",
    "\n",
    "!find /Users/sulthanfatahillah/Downloads/Datasets -type f ! -name \"*.jpg\" -exec rm {} +\n",
    "\n",
    "split_data1(source_human_dir, train_human_dir, val_human_dir, split_size)\n",
    "split_data1(source_ai_dir, train_ai_dir, val_ai_dir, split_size)\n",
    "\n",
    "print(f\"There are {len(os.listdir(train_human_dir))} images of human art for training\")\n",
    "print(f\"There are {len(os.listdir(train_ai_dir))} images of AI generated for training\")\n",
    "print(f\"There are {len(os.listdir(val_human_dir))} images of human art for validation\")\n",
    "print(f\"There are {len(os.listdir(val_ai_dir))} images of AI generated for validation\")"
   ]
  },
  {
   "cell_type": "code",
   "execution_count": 152,
   "metadata": {},
   "outputs": [],
   "source": [
    "\n",
    "def create_model():\n",
    "\n",
    "  model = tf.keras.models.Sequential([\n",
    "      \n",
    "      tf.keras.layers.Conv2D(32, (3,3), activation='relu', input_shape=(150, 150, 3)),\n",
    "      tf.keras.layers.MaxPooling2D(2,2),\n",
    "      tf.keras.layers.BatchNormalization(),\n",
    "      tf.keras.layers.Dropout(0.25),\n",
    "      tf.keras.layers.Flatten(),\n",
    "      tf.keras.layers.Dense(512, activation='relu'),\n",
    "      tf.keras.layers.Dense(1, activation='sigmoid')\n",
    "  ])\n",
    "\n",
    "  model.compile(loss='binary_crossentropy',\n",
    "                optimizer='Adam',\n",
    "                metrics=['accuracy'])\n",
    "\n",
    "  return model"
   ]
  },
  {
   "cell_type": "code",
   "execution_count": 162,
   "metadata": {},
   "outputs": [],
   "source": [
    "class myCallback(tf.keras.callbacks.Callback):\n",
    "  def on_epoch_end(self, epoch, logs={}):\n",
    "    \n",
    "    if(logs.get('accuracy') > 0.94):\n",
    "\n",
    "     \n",
    "      print(\"\\nAccuracy lebih dari 94, stop training!\")\n",
    "      self.model.stop_training = True\n",
    "\n",
    "\n",
    "callbacks = myCallback()"
   ]
  },
  {
   "cell_type": "code",
   "execution_count": 165,
   "metadata": {},
   "outputs": [
    {
     "name": "stdout",
     "output_type": "stream",
     "text": [
      "Found 41963 images belonging to 2 classes.\n",
      "Found 4664 images belonging to 2 classes.\n"
     ]
    }
   ],
   "source": [
    "from tensorflow.keras.preprocessing.image import ImageDataGenerator\n",
    "\n",
    "\n",
    "train_datagen = ImageDataGenerator(rescale=1./255)\n",
    "test_datagen = ImageDataGenerator(rescale=1./255)\n",
    "\n",
    "\n",
    "train_generator = train_datagen.flow_from_directory(\n",
    "        training_dir,  \n",
    "        target_size=(150, 150),  \n",
    "        batch_size=32,\n",
    "        class_mode='binary')\n",
    "\n",
    "\n",
    "validation_generator = test_datagen.flow_from_directory(\n",
    "        validation_dir,\n",
    "        target_size=(150, 150),\n",
    "        batch_size=32,\n",
    "        class_mode='binary')"
   ]
  },
  {
   "cell_type": "code",
   "execution_count": 166,
   "metadata": {},
   "outputs": [
    {
     "name": "stdout",
     "output_type": "stream",
     "text": [
      "Epoch 1/20\n",
      "1312/1312 - 407s - loss: 1.0854 - accuracy: 0.7842 - val_loss: 0.3740 - val_accuracy: 0.8066 - 407s/epoch - 310ms/step\n",
      "Epoch 2/20\n",
      "1312/1312 - 471s - loss: 0.3359 - accuracy: 0.8352 - val_loss: 0.3410 - val_accuracy: 0.8321 - 471s/epoch - 359ms/step\n",
      "Epoch 3/20\n",
      "1312/1312 - 476s - loss: 0.2763 - accuracy: 0.8740 - val_loss: 0.3552 - val_accuracy: 0.8373 - 476s/epoch - 363ms/step\n",
      "Epoch 4/20\n",
      "1312/1312 - 476s - loss: 0.2336 - accuracy: 0.8991 - val_loss: 0.3476 - val_accuracy: 0.8563 - 476s/epoch - 362ms/step\n",
      "Epoch 5/20\n",
      "1312/1312 - 471s - loss: 0.2126 - accuracy: 0.9101 - val_loss: 0.3350 - val_accuracy: 0.8611 - 471s/epoch - 359ms/step\n",
      "Epoch 6/20\n",
      "1312/1312 - 469s - loss: 0.1868 - accuracy: 0.9199 - val_loss: 0.3173 - val_accuracy: 0.8754 - 469s/epoch - 357ms/step\n",
      "Epoch 7/20\n",
      "1312/1312 - 466s - loss: 0.1762 - accuracy: 0.9256 - val_loss: 0.3324 - val_accuracy: 0.8690 - 466s/epoch - 355ms/step\n",
      "Epoch 8/20\n",
      "1312/1312 - 464s - loss: 0.1920 - accuracy: 0.9204 - val_loss: 0.3501 - val_accuracy: 0.8722 - 464s/epoch - 354ms/step\n",
      "Epoch 9/20\n",
      "1312/1312 - 449s - loss: 0.1569 - accuracy: 0.9306 - val_loss: 0.4046 - val_accuracy: 0.8797 - 449s/epoch - 342ms/step\n",
      "Epoch 10/20\n",
      "1312/1312 - 462s - loss: 0.1463 - accuracy: 0.9352 - val_loss: 0.3745 - val_accuracy: 0.8744 - 462s/epoch - 352ms/step\n",
      "Epoch 11/20\n",
      "1312/1312 - 405s - loss: 0.1428 - accuracy: 0.9378 - val_loss: 0.3877 - val_accuracy: 0.8825 - 405s/epoch - 308ms/step\n",
      "Epoch 12/20\n",
      "1312/1312 - 441s - loss: 0.1404 - accuracy: 0.9380 - val_loss: 0.3643 - val_accuracy: 0.8737 - 441s/epoch - 336ms/step\n",
      "Epoch 13/20\n",
      "1312/1312 - 438s - loss: 0.1372 - accuracy: 0.9394 - val_loss: 0.4399 - val_accuracy: 0.8696 - 438s/epoch - 334ms/step\n",
      "Epoch 14/20\n",
      "1312/1312 - 451s - loss: 0.1365 - accuracy: 0.9396 - val_loss: 0.3974 - val_accuracy: 0.8834 - 451s/epoch - 344ms/step\n",
      "Epoch 15/20\n",
      "\n",
      "Accuracy lebih dari 94, stop training!\n",
      "1312/1312 - 446s - loss: 0.1312 - accuracy: 0.9420 - val_loss: 0.3714 - val_accuracy: 0.8804 - 446s/epoch - 340ms/step\n"
     ]
    }
   ],
   "source": [
    "EPOCHS = 20\n",
    "\n",
    "\n",
    "model = create_model()\n",
    "\n",
    "\n",
    "history = model.fit(\n",
    "      train_generator,\n",
    "      epochs=EPOCHS,\n",
    "      validation_data=validation_generator,\n",
    "      verbose=2,\n",
    "      callbacks=[callbacks])"
   ]
  },
  {
   "cell_type": "code",
   "execution_count": 169,
   "metadata": {},
   "outputs": [],
   "source": [
    "import matplotlib.pyplot as plt\n",
    "\n",
    "def plot_loss_acc(history):\n",
    "  \n",
    "  acc = history.history['accuracy']\n",
    "  val_acc = history.history['val_accuracy']\n",
    "  loss = history.history['loss']\n",
    "  val_loss = history.history['val_loss']\n",
    "\n",
    "  epochs = range(len(acc))\n",
    "\n",
    "  plt.plot(epochs, acc, 'bo', label='Training accuracy')\n",
    "  plt.plot(epochs, val_acc, 'b', label='Validation accuracy')\n",
    "  plt.title('Training and validation accuracy')\n",
    "\n",
    "  plt.figure()\n",
    "\n",
    "  plt.plot(epochs, loss, 'bo', label='Training Loss')\n",
    "  plt.plot(epochs, val_loss, 'b', label='Validation Loss')\n",
    "  plt.title('Training and validation loss')\n",
    "  plt.legend()\n",
    "\n",
    "  plt.show()"
   ]
  },
  {
   "cell_type": "code",
   "execution_count": 170,
   "metadata": {},
   "outputs": [
    {
     "data": {
      "image/png": "[encoded data removed]",
      "text/plain": [
       "<Figure size 640x480 with 1 Axes>"
      ]
     },
     "metadata": {},
     "output_type": "display_data"
    },
    {
     "data": {
      "image/png": "[encoded data removed]",
      "text/plain": [
       "<Figure size 640x480 with 1 Axes>"
      ]
     },
     "metadata": {},
     "output_type": "display_data"
    }
   ],
   "source": [
    "# Plot training results\n",
    "plot_loss_acc(history)"
   ]
  },
  {
   "cell_type": "code",
   "execution_count": 171,
   "metadata": {},
   "outputs": [],
   "source": [
    "import pickle\n",
    "\n",
    "with open('latestmodel.pkl', 'wb') as f:\n",
    "    pickle.dump(model,f)"
   ]
  },
  {
   "cell_type": "code",
   "execution_count": null,
   "metadata": {},
   "outputs": [],
   "source": []
  }
 ],
 "metadata": {
  "kernelspec": {
   "display_name": "Python 3",
   "language": "python",
   "name": "python3"
  },
  "language_info": {
   "codemirror_mode": {
    "name": "ipython",
    "version": 3
   },
   "file_extension": ".py",
   "mimetype": "text/x-python",
   "name": "python",
   "nbconvert_exporter": "python",
   "pygments_lexer": "ipython3",
   "version": "3.11.5"
  }
 },
 "nbformat": 4,
 "nbformat_minor": 2
}
